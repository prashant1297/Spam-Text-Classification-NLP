{
 "cells": [
  {
   "cell_type": "markdown",
   "id": "bcef2a0f",
   "metadata": {},
   "source": [
    "# Text Message Classifier"
   ]
  },
  {
   "cell_type": "code",
   "execution_count": 237,
   "id": "d3f7bc80",
   "metadata": {},
   "outputs": [],
   "source": [
    "import pandas as pd\n",
    "import numpy as np"
   ]
  },
  {
   "cell_type": "code",
   "execution_count": 181,
   "id": "813cf636",
   "metadata": {},
   "outputs": [
    {
     "data": {
      "text/html": [
       "<div>\n",
       "<style scoped>\n",
       "    .dataframe tbody tr th:only-of-type {\n",
       "        vertical-align: middle;\n",
       "    }\n",
       "\n",
       "    .dataframe tbody tr th {\n",
       "        vertical-align: top;\n",
       "    }\n",
       "\n",
       "    .dataframe thead th {\n",
       "        text-align: right;\n",
       "    }\n",
       "</style>\n",
       "<table border=\"1\" class=\"dataframe\">\n",
       "  <thead>\n",
       "    <tr style=\"text-align: right;\">\n",
       "      <th></th>\n",
       "      <th>Category</th>\n",
       "      <th>Message</th>\n",
       "    </tr>\n",
       "  </thead>\n",
       "  <tbody>\n",
       "    <tr>\n",
       "      <th>0</th>\n",
       "      <td>ham</td>\n",
       "      <td>Go until jurong point, crazy.. Available only ...</td>\n",
       "    </tr>\n",
       "    <tr>\n",
       "      <th>1</th>\n",
       "      <td>ham</td>\n",
       "      <td>Ok lar... Joking wif u oni...</td>\n",
       "    </tr>\n",
       "    <tr>\n",
       "      <th>2</th>\n",
       "      <td>spam</td>\n",
       "      <td>Free entry in 2 a wkly comp to win FA Cup fina...</td>\n",
       "    </tr>\n",
       "    <tr>\n",
       "      <th>3</th>\n",
       "      <td>ham</td>\n",
       "      <td>U dun say so early hor... U c already then say...</td>\n",
       "    </tr>\n",
       "    <tr>\n",
       "      <th>4</th>\n",
       "      <td>ham</td>\n",
       "      <td>Nah I don't think he goes to usf, he lives aro...</td>\n",
       "    </tr>\n",
       "  </tbody>\n",
       "</table>\n",
       "</div>"
      ],
      "text/plain": [
       "  Category                                            Message\n",
       "0      ham  Go until jurong point, crazy.. Available only ...\n",
       "1      ham                      Ok lar... Joking wif u oni...\n",
       "2     spam  Free entry in 2 a wkly comp to win FA Cup fina...\n",
       "3      ham  U dun say so early hor... U c already then say...\n",
       "4      ham  Nah I don't think he goes to usf, he lives aro..."
      ]
     },
     "execution_count": 181,
     "metadata": {},
     "output_type": "execute_result"
    }
   ],
   "source": [
    "# Loading data \n",
    "raw_data  = pd.read_csv(r\"C:\\Users\\prashantha.v\\OneDrive - SLK Software Pvt Ltd\\Documents\\Assignment_folders\\NLP_Assignment\\SPAM_text_message_Full_Data.csv\")\n",
    "raw_data.head()"
   ]
  },
  {
   "cell_type": "code",
   "execution_count": 182,
   "id": "5bba86e2",
   "metadata": {},
   "outputs": [],
   "source": [
    "# Copying data to a new df\n",
    "df = raw_data.copy()"
   ]
  },
  {
   "cell_type": "code",
   "execution_count": 183,
   "id": "cf6a2011",
   "metadata": {},
   "outputs": [
    {
     "name": "stdout",
     "output_type": "stream",
     "text": [
      "<class 'pandas.core.frame.DataFrame'>\n",
      "RangeIndex: 5572 entries, 0 to 5571\n",
      "Data columns (total 2 columns):\n",
      " #   Column    Non-Null Count  Dtype \n",
      "---  ------    --------------  ----- \n",
      " 0   Category  5572 non-null   object\n",
      " 1   Message   5572 non-null   object\n",
      "dtypes: object(2)\n",
      "memory usage: 87.2+ KB\n"
     ]
    }
   ],
   "source": [
    "# General info of the df\n",
    "df.info()"
   ]
  },
  {
   "cell_type": "code",
   "execution_count": 184,
   "id": "653f1e20",
   "metadata": {},
   "outputs": [
    {
     "data": {
      "text/html": [
       "<div>\n",
       "<style scoped>\n",
       "    .dataframe tbody tr th:only-of-type {\n",
       "        vertical-align: middle;\n",
       "    }\n",
       "\n",
       "    .dataframe tbody tr th {\n",
       "        vertical-align: top;\n",
       "    }\n",
       "\n",
       "    .dataframe thead th {\n",
       "        text-align: right;\n",
       "    }\n",
       "</style>\n",
       "<table border=\"1\" class=\"dataframe\">\n",
       "  <thead>\n",
       "    <tr style=\"text-align: right;\">\n",
       "      <th></th>\n",
       "      <th>Category</th>\n",
       "      <th>Message</th>\n",
       "    </tr>\n",
       "  </thead>\n",
       "  <tbody>\n",
       "    <tr>\n",
       "      <th>count</th>\n",
       "      <td>5572</td>\n",
       "      <td>5572</td>\n",
       "    </tr>\n",
       "    <tr>\n",
       "      <th>unique</th>\n",
       "      <td>2</td>\n",
       "      <td>5157</td>\n",
       "    </tr>\n",
       "    <tr>\n",
       "      <th>top</th>\n",
       "      <td>ham</td>\n",
       "      <td>Sorry, I'll call later</td>\n",
       "    </tr>\n",
       "    <tr>\n",
       "      <th>freq</th>\n",
       "      <td>4825</td>\n",
       "      <td>30</td>\n",
       "    </tr>\n",
       "  </tbody>\n",
       "</table>\n",
       "</div>"
      ],
      "text/plain": [
       "       Category                 Message\n",
       "count      5572                    5572\n",
       "unique        2                    5157\n",
       "top         ham  Sorry, I'll call later\n",
       "freq       4825                      30"
      ]
     },
     "execution_count": 184,
     "metadata": {},
     "output_type": "execute_result"
    }
   ],
   "source": [
    "df.describe()"
   ]
  },
  {
   "cell_type": "code",
   "execution_count": 185,
   "id": "53664b31",
   "metadata": {},
   "outputs": [
    {
     "data": {
      "text/plain": [
       "ham     4825\n",
       "spam     747\n",
       "Name: Category, dtype: int64"
      ]
     },
     "execution_count": 185,
     "metadata": {},
     "output_type": "execute_result"
    }
   ],
   "source": [
    "# Frequency of the classes\n",
    "df.Category.value_counts()"
   ]
  },
  {
   "cell_type": "code",
   "execution_count": 186,
   "id": "d7ede0dc",
   "metadata": {},
   "outputs": [
    {
     "data": {
      "text/html": [
       "<div>\n",
       "<style scoped>\n",
       "    .dataframe tbody tr th:only-of-type {\n",
       "        vertical-align: middle;\n",
       "    }\n",
       "\n",
       "    .dataframe tbody tr th {\n",
       "        vertical-align: top;\n",
       "    }\n",
       "\n",
       "    .dataframe thead th {\n",
       "        text-align: right;\n",
       "    }\n",
       "</style>\n",
       "<table border=\"1\" class=\"dataframe\">\n",
       "  <thead>\n",
       "    <tr style=\"text-align: right;\">\n",
       "      <th></th>\n",
       "      <th>Category</th>\n",
       "      <th>Message</th>\n",
       "    </tr>\n",
       "  </thead>\n",
       "  <tbody>\n",
       "    <tr>\n",
       "      <th>3940</th>\n",
       "      <td>ham</td>\n",
       "      <td>Y ü wan to go there? C doctor?</td>\n",
       "    </tr>\n",
       "    <tr>\n",
       "      <th>2875</th>\n",
       "      <td>ham</td>\n",
       "      <td>Crucify is c not s. You should have told me ea...</td>\n",
       "    </tr>\n",
       "    <tr>\n",
       "      <th>5141</th>\n",
       "      <td>spam</td>\n",
       "      <td>FREE for 1st week! No1 Nokia tone 4 ur mobile ...</td>\n",
       "    </tr>\n",
       "    <tr>\n",
       "      <th>2165</th>\n",
       "      <td>ham</td>\n",
       "      <td>Nothing really, just making sure everybody's u...</td>\n",
       "    </tr>\n",
       "    <tr>\n",
       "      <th>4924</th>\n",
       "      <td>ham</td>\n",
       "      <td>Oh yah... We never cancel leh... Haha</td>\n",
       "    </tr>\n",
       "  </tbody>\n",
       "</table>\n",
       "</div>"
      ],
      "text/plain": [
       "     Category                                            Message\n",
       "3940      ham                     Y ü wan to go there? C doctor?\n",
       "2875      ham  Crucify is c not s. You should have told me ea...\n",
       "5141     spam  FREE for 1st week! No1 Nokia tone 4 ur mobile ...\n",
       "2165      ham  Nothing really, just making sure everybody's u...\n",
       "4924      ham              Oh yah... We never cancel leh... Haha"
      ]
     },
     "execution_count": 186,
     "metadata": {},
     "output_type": "execute_result"
    }
   ],
   "source": [
    "df.sample(5)"
   ]
  },
  {
   "cell_type": "code",
   "execution_count": 187,
   "id": "0b83778e",
   "metadata": {},
   "outputs": [],
   "source": [
    "## Vectorizing training text data (i.e documents)\n",
    "# Using pre-trained word2vec vectorizer\n",
    "import gensim.downloader as api\n",
    "word2vec = api.load('word2vec-google-news-300')"
   ]
  },
  {
   "cell_type": "code",
   "execution_count": 188,
   "id": "a2adce40",
   "metadata": {},
   "outputs": [
    {
     "data": {
      "text/plain": [
       "3000000"
      ]
     },
     "execution_count": 188,
     "metadata": {},
     "output_type": "execute_result"
    }
   ],
   "source": [
    "# Total words in the vectorizer model\n",
    "len(word2vec.index_to_key)"
   ]
  },
  {
   "cell_type": "code",
   "execution_count": 189,
   "id": "7ab27db5",
   "metadata": {},
   "outputs": [
    {
     "data": {
      "text/plain": [
       "300"
      ]
     },
     "execution_count": 189,
     "metadata": {},
     "output_type": "execute_result"
    }
   ],
   "source": [
    "# Number of dimensions in the vectorizer\n",
    "word2vec.vector_size"
   ]
  },
  {
   "cell_type": "code",
   "execution_count": 190,
   "id": "31521ea8",
   "metadata": {},
   "outputs": [
    {
     "data": {
      "text/plain": [
       "array([-0.0859375 ,  0.0859375 , -0.11425781, -0.02062988, -0.05859375,\n",
       "       -0.12402344, -0.20117188, -0.01318359,  0.20507812,  0.31445312,\n",
       "       -0.02709961, -0.33007812, -0.13964844, -0.359375  , -0.13769531,\n",
       "        0.00491333,  0.00564575,  0.05761719, -0.00367737,  0.2734375 ,\n",
       "       -0.06835938,  0.02478027, -0.08544922, -0.22558594,  0.15039062,\n",
       "       -0.31835938, -0.01611328,  0.24414062,  0.15136719, -0.3046875 ,\n",
       "       -0.33984375,  0.17871094, -0.22753906, -0.02416992, -0.06030273,\n",
       "        0.04345703, -0.05883789, -0.09960938, -0.11572266,  0.078125  ,\n",
       "       -0.2109375 , -0.00234985,  0.0189209 ,  0.16015625, -0.30664062,\n",
       "       -0.17871094,  0.00927734,  0.01275635,  0.08154297, -0.03881836,\n",
       "        0.21679688,  0.19726562,  0.1640625 , -0.23242188, -0.04516602,\n",
       "        0.25195312,  0.08398438,  0.01721191,  0.33789062, -0.10351562,\n",
       "       -0.13476562, -0.12695312,  0.12890625, -0.078125  ,  0.19140625,\n",
       "        0.13769531, -0.29101562,  0.01483154, -0.04907227, -0.12597656,\n",
       "       -0.29882812, -0.26171875,  0.15039062, -0.14746094, -0.25195312,\n",
       "       -0.19628906,  0.15136719, -0.10253906, -0.03588867, -0.22460938,\n",
       "        0.10400391,  0.06298828, -0.16894531, -0.29492188,  0.06396484,\n",
       "        0.32617188,  0.06640625, -0.14648438,  0.2578125 ,  0.18554688,\n",
       "       -0.03442383,  0.25390625, -0.20019531,  0.04223633, -0.01422119,\n",
       "        0.13867188,  0.23730469, -0.13964844,  0.4140625 ,  0.12792969,\n",
       "       -0.28125   ,  0.06298828,  0.14257812, -0.21484375, -0.22851562,\n",
       "        0.08886719, -0.01062012, -0.02856445,  0.09179688,  0.18066406,\n",
       "       -0.28710938, -0.0859375 , -0.04199219,  0.01434326,  0.23046875,\n",
       "        0.18554688,  0.07373047, -0.08935547, -0.06738281,  0.078125  ,\n",
       "       -0.42773438, -0.22363281,  0.08203125,  0.21484375,  0.08300781,\n",
       "       -0.32226562, -0.03833008, -0.07128906, -0.00854492,  0.25      ,\n",
       "       -0.046875  ,  0.1328125 , -0.265625  ,  0.41015625,  0.11035156,\n",
       "        0.00778198,  0.05688477, -0.01104736, -0.02319336,  0.20703125,\n",
       "       -0.04101562, -0.08251953, -0.15527344,  0.09667969,  0.19628906,\n",
       "        0.21484375,  0.12792969,  0.23632812,  0.0100708 ,  0.140625  ,\n",
       "        0.171875  ,  0.13867188, -0.3046875 ,  0.33789062,  0.04003906,\n",
       "       -0.03613281,  0.4453125 , -0.23242188,  0.04980469, -0.04272461,\n",
       "        0.08300781,  0.08935547,  0.13378906,  0.09472656,  0.13476562,\n",
       "       -0.10107422,  0.03735352,  0.10839844,  0.02160645,  0.05444336,\n",
       "       -0.15039062,  0.04052734, -0.08447266,  0.20898438, -0.0027771 ,\n",
       "       -0.15820312, -0.140625  ,  0.02709961, -0.21582031,  0.01367188,\n",
       "       -0.33789062, -0.05004883, -0.25195312,  0.08935547,  0.11474609,\n",
       "       -0.03039551,  0.21972656,  0.02209473,  0.20703125,  0.0859375 ,\n",
       "        0.04760742, -0.07080078, -0.02185059,  0.10009766, -0.25195312,\n",
       "        0.39257812,  0.14160156,  0.16796875,  0.01953125, -0.19042969,\n",
       "       -0.07324219, -0.05957031, -0.23925781, -0.23925781, -0.19628906,\n",
       "        0.22753906, -0.01208496,  0.05126953, -0.42773438, -0.0246582 ,\n",
       "       -0.296875  ,  0.23925781, -0.12353516,  0.17285156, -0.02636719,\n",
       "       -0.0324707 ,  0.41015625,  0.15917969, -0.01184082, -0.12890625,\n",
       "        0.21191406,  0.02978516,  0.20898438, -0.12255859, -0.13183594,\n",
       "       -0.06689453,  0.28320312,  0.26953125,  0.16601562,  0.125     ,\n",
       "        0.07519531,  0.04833984, -0.01251221, -0.40039062,  0.16113281,\n",
       "        0.10205078,  0.00254822, -0.07080078,  0.14453125, -0.08203125,\n",
       "        0.11767578, -0.22167969, -0.16308594,  0.0123291 , -0.15527344,\n",
       "       -0.04833984, -0.00448608,  0.00720215, -0.02734375, -0.07617188,\n",
       "        0.00393677, -0.36523438,  0.00106812,  0.26953125,  0.16796875,\n",
       "       -0.36328125,  0.24316406, -0.08398438,  0.00854492,  0.06494141,\n",
       "       -0.10693359, -0.26953125, -0.421875  ,  0.00148773, -0.07177734,\n",
       "       -0.08349609, -0.33203125, -0.25390625,  0.01507568, -0.20800781,\n",
       "       -0.3125    ,  0.11767578, -0.15234375,  0.12988281, -0.05712891,\n",
       "        0.24414062, -0.32617188,  0.02868652,  0.10742188, -0.12988281,\n",
       "       -0.09179688, -0.22363281,  0.19335938,  0.05249023,  0.19921875,\n",
       "       -0.30078125,  0.00689697,  0.05493164,  0.03979492,  0.37304688,\n",
       "       -0.0100708 , -0.03015137,  0.04760742,  0.04345703, -0.05004883,\n",
       "        0.04394531,  0.12109375, -0.02429199,  0.28125   ,  0.10986328],\n",
       "      dtype=float32)"
      ]
     },
     "execution_count": 190,
     "metadata": {},
     "output_type": "execute_result"
    }
   ],
   "source": [
    "# sample word-vectors (300D)\n",
    "sample_word = 'ocean'\n",
    "sample_word_vec = word2vec[sample_word]\n",
    "sample_word_vec"
   ]
  },
  {
   "cell_type": "code",
   "execution_count": 191,
   "id": "b1ee6b7d",
   "metadata": {},
   "outputs": [
    {
     "name": "stdout",
     "output_type": "stream",
     "text": [
      "0.68709683\n"
     ]
    }
   ],
   "source": [
    "# checking similarity between two words\n",
    "w1, w2 = 'electron', 'proton'\n",
    "print(word2vec.similarity(w1, w2))"
   ]
  },
  {
   "cell_type": "code",
   "execution_count": 192,
   "id": "1b1bd7f9",
   "metadata": {},
   "outputs": [
    {
     "name": "stdout",
     "output_type": "stream",
     "text": [
      "[('elementary', 0.7868632078170776), ('schools', 0.7411909103393555), ('shool', 0.6692329049110413), ('elementary_schools', 0.6597153544425964), ('kindergarten', 0.6529810428619385)]\n"
     ]
    }
   ],
   "source": [
    "# Printing similar words (nearby words in 300D space)\n",
    "print(word2vec.most_similar(positive=['school'], topn=5))"
   ]
  },
  {
   "cell_type": "code",
   "execution_count": 193,
   "id": "8389ac80",
   "metadata": {},
   "outputs": [
    {
     "name": "stdout",
     "output_type": "stream",
     "text": [
      "it's not there\n"
     ]
    }
   ],
   "source": [
    "# Experimenting with words\n",
    "word = ''\n",
    "if word in word2vec.index_to_key:\n",
    "    print(\"it's there\")\n",
    "else:\n",
    "    print(\"it's not there\")"
   ]
  },
  {
   "cell_type": "code",
   "execution_count": 194,
   "id": "414108c4",
   "metadata": {},
   "outputs": [],
   "source": [
    "# function to vectorize a document\n",
    "def document_vector (doc, vectorizer):\n",
    "    l2 = []\n",
    "    for token in doc.split():\n",
    "        if token in vectorizer.index_to_key:\n",
    "            l2.append(word2vec[token])\n",
    "    doc_vector = np.mean(l2, axis=0)\n",
    "    if doc_vector.shape != (vectorizer.vector_size, ):\n",
    "        return np.zeros(vectorizer.vector_size)\n",
    "    return doc_vector"
   ]
  },
  {
   "cell_type": "code",
   "execution_count": 195,
   "id": "a40e64f3",
   "metadata": {},
   "outputs": [
    {
     "name": "stderr",
     "output_type": "stream",
     "text": [
      "C:\\ProgramData\\anaconda3\\lib\\site-packages\\numpy\\core\\fromnumeric.py:3432: RuntimeWarning: Mean of empty slice.\n",
      "  return _methods._mean(a, axis=axis, dtype=dtype,\n",
      "C:\\ProgramData\\anaconda3\\lib\\site-packages\\numpy\\core\\_methods.py:190: RuntimeWarning: invalid value encountered in double_scalars\n",
      "  ret = ret.dtype.type(ret / rcount)\n"
     ]
    }
   ],
   "source": [
    "# Vextorizing the input documents\n",
    "doc_vct_list = []\n",
    "for doc in df.Message:\n",
    "    doc_vct_list.append(document_vector(doc, word2vec))"
   ]
  },
  {
   "cell_type": "code",
   "execution_count": 200,
   "id": "f4c3d476",
   "metadata": {},
   "outputs": [],
   "source": [
    "# Model selection and training\n",
    "from sklearn.linear_model import LogisticRegression\n",
    "from sklearn.model_selection import train_test_split"
   ]
  },
  {
   "cell_type": "code",
   "execution_count": 202,
   "id": "c5537635",
   "metadata": {},
   "outputs": [],
   "source": [
    "M = np.array(doc_vct_list)\n",
    "n = df.Category"
   ]
  },
  {
   "cell_type": "code",
   "execution_count": 203,
   "id": "257d754d",
   "metadata": {},
   "outputs": [
    {
     "data": {
      "text/plain": [
       "(5572, 300)"
      ]
     },
     "execution_count": 203,
     "metadata": {},
     "output_type": "execute_result"
    }
   ],
   "source": [
    "M.shape"
   ]
  },
  {
   "cell_type": "code",
   "execution_count": 204,
   "id": "79bd6a72",
   "metadata": {},
   "outputs": [],
   "source": [
    "# Splitting the dataset for training and testing\n",
    "M_train, M_test, n_train, n_test = train_test_split(M, n, test_size=0.2)"
   ]
  },
  {
   "cell_type": "code",
   "execution_count": 205,
   "id": "2833a9dd",
   "metadata": {},
   "outputs": [
    {
     "data": {
      "text/plain": [
       "5572"
      ]
     },
     "execution_count": 205,
     "metadata": {},
     "output_type": "execute_result"
    }
   ],
   "source": [
    "len(M)"
   ]
  },
  {
   "cell_type": "code",
   "execution_count": 206,
   "id": "76d74f89",
   "metadata": {},
   "outputs": [
    {
     "data": {
      "text/html": [
       "<style>#sk-container-id-7 {color: black;background-color: white;}#sk-container-id-7 pre{padding: 0;}#sk-container-id-7 div.sk-toggleable {background-color: white;}#sk-container-id-7 label.sk-toggleable__label {cursor: pointer;display: block;width: 100%;margin-bottom: 0;padding: 0.3em;box-sizing: border-box;text-align: center;}#sk-container-id-7 label.sk-toggleable__label-arrow:before {content: \"▸\";float: left;margin-right: 0.25em;color: #696969;}#sk-container-id-7 label.sk-toggleable__label-arrow:hover:before {color: black;}#sk-container-id-7 div.sk-estimator:hover label.sk-toggleable__label-arrow:before {color: black;}#sk-container-id-7 div.sk-toggleable__content {max-height: 0;max-width: 0;overflow: hidden;text-align: left;background-color: #f0f8ff;}#sk-container-id-7 div.sk-toggleable__content pre {margin: 0.2em;color: black;border-radius: 0.25em;background-color: #f0f8ff;}#sk-container-id-7 input.sk-toggleable__control:checked~div.sk-toggleable__content {max-height: 200px;max-width: 100%;overflow: auto;}#sk-container-id-7 input.sk-toggleable__control:checked~label.sk-toggleable__label-arrow:before {content: \"▾\";}#sk-container-id-7 div.sk-estimator input.sk-toggleable__control:checked~label.sk-toggleable__label {background-color: #d4ebff;}#sk-container-id-7 div.sk-label input.sk-toggleable__control:checked~label.sk-toggleable__label {background-color: #d4ebff;}#sk-container-id-7 input.sk-hidden--visually {border: 0;clip: rect(1px 1px 1px 1px);clip: rect(1px, 1px, 1px, 1px);height: 1px;margin: -1px;overflow: hidden;padding: 0;position: absolute;width: 1px;}#sk-container-id-7 div.sk-estimator {font-family: monospace;background-color: #f0f8ff;border: 1px dotted black;border-radius: 0.25em;box-sizing: border-box;margin-bottom: 0.5em;}#sk-container-id-7 div.sk-estimator:hover {background-color: #d4ebff;}#sk-container-id-7 div.sk-parallel-item::after {content: \"\";width: 100%;border-bottom: 1px solid gray;flex-grow: 1;}#sk-container-id-7 div.sk-label:hover label.sk-toggleable__label {background-color: #d4ebff;}#sk-container-id-7 div.sk-serial::before {content: \"\";position: absolute;border-left: 1px solid gray;box-sizing: border-box;top: 0;bottom: 0;left: 50%;z-index: 0;}#sk-container-id-7 div.sk-serial {display: flex;flex-direction: column;align-items: center;background-color: white;padding-right: 0.2em;padding-left: 0.2em;position: relative;}#sk-container-id-7 div.sk-item {position: relative;z-index: 1;}#sk-container-id-7 div.sk-parallel {display: flex;align-items: stretch;justify-content: center;background-color: white;position: relative;}#sk-container-id-7 div.sk-item::before, #sk-container-id-7 div.sk-parallel-item::before {content: \"\";position: absolute;border-left: 1px solid gray;box-sizing: border-box;top: 0;bottom: 0;left: 50%;z-index: -1;}#sk-container-id-7 div.sk-parallel-item {display: flex;flex-direction: column;z-index: 1;position: relative;background-color: white;}#sk-container-id-7 div.sk-parallel-item:first-child::after {align-self: flex-end;width: 50%;}#sk-container-id-7 div.sk-parallel-item:last-child::after {align-self: flex-start;width: 50%;}#sk-container-id-7 div.sk-parallel-item:only-child::after {width: 0;}#sk-container-id-7 div.sk-dashed-wrapped {border: 1px dashed gray;margin: 0 0.4em 0.5em 0.4em;box-sizing: border-box;padding-bottom: 0.4em;background-color: white;}#sk-container-id-7 div.sk-label label {font-family: monospace;font-weight: bold;display: inline-block;line-height: 1.2em;}#sk-container-id-7 div.sk-label-container {text-align: center;}#sk-container-id-7 div.sk-container {/* jupyter's `normalize.less` sets `[hidden] { display: none; }` but bootstrap.min.css set `[hidden] { display: none !important; }` so we also need the `!important` here to be able to override the default hidden behavior on the sphinx rendered scikit-learn.org. See: https://github.com/scikit-learn/scikit-learn/issues/21755 */display: inline-block !important;position: relative;}#sk-container-id-7 div.sk-text-repr-fallback {display: none;}</style><div id=\"sk-container-id-7\" class=\"sk-top-container\"><div class=\"sk-text-repr-fallback\"><pre>LogisticRegression()</pre><b>In a Jupyter environment, please rerun this cell to show the HTML representation or trust the notebook. <br />On GitHub, the HTML representation is unable to render, please try loading this page with nbviewer.org.</b></div><div class=\"sk-container\" hidden><div class=\"sk-item\"><div class=\"sk-estimator sk-toggleable\"><input class=\"sk-toggleable__control sk-hidden--visually\" id=\"sk-estimator-id-7\" type=\"checkbox\" checked><label for=\"sk-estimator-id-7\" class=\"sk-toggleable__label sk-toggleable__label-arrow\">LogisticRegression</label><div class=\"sk-toggleable__content\"><pre>LogisticRegression()</pre></div></div></div></div></div>"
      ],
      "text/plain": [
       "LogisticRegression()"
      ]
     },
     "execution_count": 206,
     "metadata": {},
     "output_type": "execute_result"
    }
   ],
   "source": [
    "classifier_w2v = LogisticRegression()\n",
    "classifier_w2v.fit(M_train, n_train)"
   ]
  },
  {
   "cell_type": "code",
   "execution_count": 207,
   "id": "8e95fa8a",
   "metadata": {},
   "outputs": [],
   "source": [
    "# Prediction on test data\n",
    "n_pred = classifier_w2v.predict(M_test)"
   ]
  },
  {
   "cell_type": "code",
   "execution_count": 208,
   "id": "1f50ea9a",
   "metadata": {},
   "outputs": [],
   "source": [
    "# Model evaluation\n",
    "from sklearn.metrics import accuracy_score, precision_score, recall_score, f1_score"
   ]
  },
  {
   "cell_type": "code",
   "execution_count": 209,
   "id": "a984e0ea",
   "metadata": {},
   "outputs": [
    {
     "name": "stdout",
     "output_type": "stream",
     "text": [
      "Accuracy: 0.9614349775784753, \n",
      "Precision: 0.9606566591315402, \n",
      "Recall: 0.9614349775784753, \n",
      "F1 Score: 0.9599913764144531\n"
     ]
    }
   ],
   "source": [
    "# Metrics calculations for word2vec vectorizer\n",
    "accuracy1 = accuracy_score(n_test, n_pred)\n",
    "precision1 = precision_score(n_test, n_pred, average='weighted')\n",
    "recall1 = recall_score(n_test, n_pred, average='weighted')\n",
    "f11 = f1_score(n_test, n_pred, average='weighted')\n",
    "\n",
    "print(f'Accuracy: {accuracy1}, \\nPrecision: {precision1}, \\nRecall: {recall1}, \\nF1 Score: {f11}')"
   ]
  },
  {
   "cell_type": "code",
   "execution_count": 248,
   "id": "f9ca379a",
   "metadata": {},
   "outputs": [
    {
     "data": {
      "text/plain": [
       "array(['ham'], dtype=object)"
      ]
     },
     "execution_count": 248,
     "metadata": {},
     "output_type": "execute_result"
    }
   ],
   "source": [
    "l3 = [\"\"]\n",
    "l3_doc_vct = []\n",
    "for example in l3:\n",
    "    l3_doc_vct.append(document_vector(example, word2vec))\n",
    "\n",
    "l3_array = np.array(l3_doc_vct)\n",
    "l3_pred = classifier_w2v.predict(l3_array)\n",
    "l3_pred"
   ]
  },
  {
   "cell_type": "code",
   "execution_count": 241,
   "id": "6210f111",
   "metadata": {},
   "outputs": [
    {
     "data": {
      "text/plain": [
       "array(['ham', 'spam'], dtype=object)"
      ]
     },
     "execution_count": 241,
     "metadata": {},
     "output_type": "execute_result"
    }
   ],
   "source": []
  },
  {
   "cell_type": "markdown",
   "id": "4dc48977",
   "metadata": {},
   "source": [
    "###############################################################################\n",
    "###############################################################################"
   ]
  },
  {
   "cell_type": "markdown",
   "id": "67a7a193",
   "metadata": {},
   "source": [
    "Now, we will use Bag of Words as a vectorizer"
   ]
  },
  {
   "cell_type": "code",
   "execution_count": 210,
   "id": "312b29e2",
   "metadata": {},
   "outputs": [],
   "source": [
    "# Vectorizing training text data (i.e documents)\n",
    "from sklearn.feature_extraction.text import CountVectorizer"
   ]
  },
  {
   "cell_type": "code",
   "execution_count": 211,
   "id": "36222771",
   "metadata": {},
   "outputs": [],
   "source": [
    "# using bag-of-words model\n",
    "vectorizer1 = CountVectorizer(min_df=1, ngram_range=(1,1))\n",
    "X = vectorizer1.fit_transform(df.Message)\n",
    "y = df.Category"
   ]
  },
  {
   "cell_type": "code",
   "execution_count": 212,
   "id": "35fb1b7f",
   "metadata": {},
   "outputs": [
    {
     "data": {
      "text/plain": [
       "'ham'"
      ]
     },
     "execution_count": 212,
     "metadata": {},
     "output_type": "execute_result"
    }
   ],
   "source": [
    "y[0]"
   ]
  },
  {
   "cell_type": "code",
   "execution_count": 213,
   "id": "4e78cb80",
   "metadata": {},
   "outputs": [
    {
     "data": {
      "text/plain": [
       "array(['00', '000', '000pes', ..., 'èn', 'ú1', '〨ud'], dtype=object)"
      ]
     },
     "execution_count": 213,
     "metadata": {},
     "output_type": "execute_result"
    }
   ],
   "source": [
    "# All the vocabulary from the vectorizer\n",
    "vectorizer1.get_feature_names_out()"
   ]
  },
  {
   "cell_type": "code",
   "execution_count": 214,
   "id": "efb15e95",
   "metadata": {},
   "outputs": [
    {
     "data": {
      "text/plain": [
       "<1x8709 sparse matrix of type '<class 'numpy.int64'>'\n",
       "\twith 18 stored elements in Compressed Sparse Row format>"
      ]
     },
     "execution_count": 214,
     "metadata": {},
     "output_type": "execute_result"
    }
   ],
   "source": [
    "X[0]"
   ]
  },
  {
   "cell_type": "code",
   "execution_count": 215,
   "id": "a493df60",
   "metadata": {},
   "outputs": [
    {
     "data": {
      "text/plain": [
       "(5572, 8709)"
      ]
     },
     "execution_count": 215,
     "metadata": {},
     "output_type": "execute_result"
    }
   ],
   "source": [
    "X.toarray().shape"
   ]
  },
  {
   "cell_type": "code",
   "execution_count": 216,
   "id": "5730f733",
   "metadata": {},
   "outputs": [
    {
     "name": "stdout",
     "output_type": "stream",
     "text": [
      "8709\n"
     ]
    }
   ],
   "source": [
    "print(len(vectorizer1.get_feature_names_out()))"
   ]
  },
  {
   "cell_type": "code",
   "execution_count": 217,
   "id": "3decd184",
   "metadata": {},
   "outputs": [
    {
     "name": "stdout",
     "output_type": "stream",
     "text": [
      "8709\n"
     ]
    }
   ],
   "source": [
    "print(len(vectorizer1.vocabulary_))"
   ]
  },
  {
   "cell_type": "code",
   "execution_count": 218,
   "id": "85e7c8a6",
   "metadata": {},
   "outputs": [],
   "source": [
    "X_train, X_test, y_train, y_test = train_test_split(X, y, test_size=0.2)"
   ]
  },
  {
   "cell_type": "code",
   "execution_count": null,
   "id": "0d04d633",
   "metadata": {},
   "outputs": [],
   "source": []
  },
  {
   "cell_type": "code",
   "execution_count": 219,
   "id": "64c3fc88",
   "metadata": {},
   "outputs": [
    {
     "data": {
      "text/html": [
       "<style>#sk-container-id-8 {color: black;background-color: white;}#sk-container-id-8 pre{padding: 0;}#sk-container-id-8 div.sk-toggleable {background-color: white;}#sk-container-id-8 label.sk-toggleable__label {cursor: pointer;display: block;width: 100%;margin-bottom: 0;padding: 0.3em;box-sizing: border-box;text-align: center;}#sk-container-id-8 label.sk-toggleable__label-arrow:before {content: \"▸\";float: left;margin-right: 0.25em;color: #696969;}#sk-container-id-8 label.sk-toggleable__label-arrow:hover:before {color: black;}#sk-container-id-8 div.sk-estimator:hover label.sk-toggleable__label-arrow:before {color: black;}#sk-container-id-8 div.sk-toggleable__content {max-height: 0;max-width: 0;overflow: hidden;text-align: left;background-color: #f0f8ff;}#sk-container-id-8 div.sk-toggleable__content pre {margin: 0.2em;color: black;border-radius: 0.25em;background-color: #f0f8ff;}#sk-container-id-8 input.sk-toggleable__control:checked~div.sk-toggleable__content {max-height: 200px;max-width: 100%;overflow: auto;}#sk-container-id-8 input.sk-toggleable__control:checked~label.sk-toggleable__label-arrow:before {content: \"▾\";}#sk-container-id-8 div.sk-estimator input.sk-toggleable__control:checked~label.sk-toggleable__label {background-color: #d4ebff;}#sk-container-id-8 div.sk-label input.sk-toggleable__control:checked~label.sk-toggleable__label {background-color: #d4ebff;}#sk-container-id-8 input.sk-hidden--visually {border: 0;clip: rect(1px 1px 1px 1px);clip: rect(1px, 1px, 1px, 1px);height: 1px;margin: -1px;overflow: hidden;padding: 0;position: absolute;width: 1px;}#sk-container-id-8 div.sk-estimator {font-family: monospace;background-color: #f0f8ff;border: 1px dotted black;border-radius: 0.25em;box-sizing: border-box;margin-bottom: 0.5em;}#sk-container-id-8 div.sk-estimator:hover {background-color: #d4ebff;}#sk-container-id-8 div.sk-parallel-item::after {content: \"\";width: 100%;border-bottom: 1px solid gray;flex-grow: 1;}#sk-container-id-8 div.sk-label:hover label.sk-toggleable__label {background-color: #d4ebff;}#sk-container-id-8 div.sk-serial::before {content: \"\";position: absolute;border-left: 1px solid gray;box-sizing: border-box;top: 0;bottom: 0;left: 50%;z-index: 0;}#sk-container-id-8 div.sk-serial {display: flex;flex-direction: column;align-items: center;background-color: white;padding-right: 0.2em;padding-left: 0.2em;position: relative;}#sk-container-id-8 div.sk-item {position: relative;z-index: 1;}#sk-container-id-8 div.sk-parallel {display: flex;align-items: stretch;justify-content: center;background-color: white;position: relative;}#sk-container-id-8 div.sk-item::before, #sk-container-id-8 div.sk-parallel-item::before {content: \"\";position: absolute;border-left: 1px solid gray;box-sizing: border-box;top: 0;bottom: 0;left: 50%;z-index: -1;}#sk-container-id-8 div.sk-parallel-item {display: flex;flex-direction: column;z-index: 1;position: relative;background-color: white;}#sk-container-id-8 div.sk-parallel-item:first-child::after {align-self: flex-end;width: 50%;}#sk-container-id-8 div.sk-parallel-item:last-child::after {align-self: flex-start;width: 50%;}#sk-container-id-8 div.sk-parallel-item:only-child::after {width: 0;}#sk-container-id-8 div.sk-dashed-wrapped {border: 1px dashed gray;margin: 0 0.4em 0.5em 0.4em;box-sizing: border-box;padding-bottom: 0.4em;background-color: white;}#sk-container-id-8 div.sk-label label {font-family: monospace;font-weight: bold;display: inline-block;line-height: 1.2em;}#sk-container-id-8 div.sk-label-container {text-align: center;}#sk-container-id-8 div.sk-container {/* jupyter's `normalize.less` sets `[hidden] { display: none; }` but bootstrap.min.css set `[hidden] { display: none !important; }` so we also need the `!important` here to be able to override the default hidden behavior on the sphinx rendered scikit-learn.org. See: https://github.com/scikit-learn/scikit-learn/issues/21755 */display: inline-block !important;position: relative;}#sk-container-id-8 div.sk-text-repr-fallback {display: none;}</style><div id=\"sk-container-id-8\" class=\"sk-top-container\"><div class=\"sk-text-repr-fallback\"><pre>LogisticRegression()</pre><b>In a Jupyter environment, please rerun this cell to show the HTML representation or trust the notebook. <br />On GitHub, the HTML representation is unable to render, please try loading this page with nbviewer.org.</b></div><div class=\"sk-container\" hidden><div class=\"sk-item\"><div class=\"sk-estimator sk-toggleable\"><input class=\"sk-toggleable__control sk-hidden--visually\" id=\"sk-estimator-id-8\" type=\"checkbox\" checked><label for=\"sk-estimator-id-8\" class=\"sk-toggleable__label sk-toggleable__label-arrow\">LogisticRegression</label><div class=\"sk-toggleable__content\"><pre>LogisticRegression()</pre></div></div></div></div></div>"
      ],
      "text/plain": [
       "LogisticRegression()"
      ]
     },
     "execution_count": 219,
     "metadata": {},
     "output_type": "execute_result"
    }
   ],
   "source": [
    "classifier = LogisticRegression()\n",
    "classifier.fit(X_train, y_train)"
   ]
  },
  {
   "cell_type": "code",
   "execution_count": null,
   "id": "d37f8da1",
   "metadata": {},
   "outputs": [],
   "source": []
  },
  {
   "cell_type": "code",
   "execution_count": 220,
   "id": "229a6fd5",
   "metadata": {},
   "outputs": [],
   "source": [
    "# Prediction on test data\n",
    "y_pred = classifier.predict(X_test)"
   ]
  },
  {
   "cell_type": "code",
   "execution_count": 249,
   "id": "9322cf2f",
   "metadata": {},
   "outputs": [
    {
     "data": {
      "text/plain": [
       "array(['ham'], dtype=object)"
      ]
     },
     "execution_count": 249,
     "metadata": {},
     "output_type": "execute_result"
    }
   ],
   "source": [
    "new_text = ['Free coupons. Click below']\n",
    "new_text_vector = vectorizer1.transform(new_text)\n",
    "classifier.predict(new_text_vector)"
   ]
  },
  {
   "cell_type": "code",
   "execution_count": 222,
   "id": "e85e07ef",
   "metadata": {},
   "outputs": [
    {
     "name": "stdout",
     "output_type": "stream",
     "text": [
      "Accuracy: 0.97847533632287, \n",
      "Precision: 0.9784371248813666, \n",
      "Recall: 0.97847533632287, \n",
      "F1 Score: 0.9778620618857253\n"
     ]
    }
   ],
   "source": [
    "# Metrics calculations for countvectorizer\n",
    "accuracy = accuracy_score(y_test, y_pred)\n",
    "precision = precision_score(y_test, y_pred, average='weighted')\n",
    "recall = recall_score(y_test, y_pred, average='weighted')\n",
    "f1 = f1_score(y_test, y_pred, average='weighted')\n",
    "\n",
    "print(f'Accuracy: {accuracy}, \\nPrecision: {precision}, \\nRecall: {recall}, \\nF1 Score: {f1}')"
   ]
  },
  {
   "cell_type": "markdown",
   "id": "764afa69",
   "metadata": {},
   "source": [
    "Since there is a class imbalance in the dataset, we have to take care of it...!!!!"
   ]
  },
  {
   "cell_type": "code",
   "execution_count": 223,
   "id": "7f0d64e9",
   "metadata": {},
   "outputs": [
    {
     "data": {
      "text/plain": [
       "(4825, 2)"
      ]
     },
     "execution_count": 223,
     "metadata": {},
     "output_type": "execute_result"
    }
   ],
   "source": [
    "# Same procedure repeated with balanced dataset\n",
    "df_ham = df[df.Category == 'ham']\n",
    "df_ham.shape"
   ]
  },
  {
   "cell_type": "code",
   "execution_count": 224,
   "id": "deb2caf0",
   "metadata": {},
   "outputs": [
    {
     "data": {
      "text/plain": [
       "(747, 2)"
      ]
     },
     "execution_count": 224,
     "metadata": {},
     "output_type": "execute_result"
    }
   ],
   "source": [
    "df_spam = df[df.Category == 'spam']\n",
    "df_spam.shape"
   ]
  },
  {
   "cell_type": "code",
   "execution_count": 225,
   "id": "0bd6328b",
   "metadata": {},
   "outputs": [
    {
     "data": {
      "text/html": [
       "<div>\n",
       "<style scoped>\n",
       "    .dataframe tbody tr th:only-of-type {\n",
       "        vertical-align: middle;\n",
       "    }\n",
       "\n",
       "    .dataframe tbody tr th {\n",
       "        vertical-align: top;\n",
       "    }\n",
       "\n",
       "    .dataframe thead th {\n",
       "        text-align: right;\n",
       "    }\n",
       "</style>\n",
       "<table border=\"1\" class=\"dataframe\">\n",
       "  <thead>\n",
       "    <tr style=\"text-align: right;\">\n",
       "      <th></th>\n",
       "      <th>Category</th>\n",
       "      <th>Message</th>\n",
       "    </tr>\n",
       "  </thead>\n",
       "  <tbody>\n",
       "    <tr>\n",
       "      <th>4628</th>\n",
       "      <td>spam</td>\n",
       "      <td>Please call our customer service representativ...</td>\n",
       "    </tr>\n",
       "    <tr>\n",
       "      <th>3411</th>\n",
       "      <td>ham</td>\n",
       "      <td>Joy's father is John. Then John is the ____ of...</td>\n",
       "    </tr>\n",
       "    <tr>\n",
       "      <th>5278</th>\n",
       "      <td>spam</td>\n",
       "      <td>URGENT! Your Mobile number has been awarded wi...</td>\n",
       "    </tr>\n",
       "    <tr>\n",
       "      <th>1777</th>\n",
       "      <td>spam</td>\n",
       "      <td>Call FREEPHONE 0800 542 0578 now!</td>\n",
       "    </tr>\n",
       "    <tr>\n",
       "      <th>2675</th>\n",
       "      <td>ham</td>\n",
       "      <td>I am 6 ft. We will be a good combination!</td>\n",
       "    </tr>\n",
       "    <tr>\n",
       "      <th>5423</th>\n",
       "      <td>ham</td>\n",
       "      <td>Sorry, I'll call later</td>\n",
       "    </tr>\n",
       "    <tr>\n",
       "      <th>5115</th>\n",
       "      <td>spam</td>\n",
       "      <td>Get 3 Lions England tone, reply lionm 4 mono o...</td>\n",
       "    </tr>\n",
       "    <tr>\n",
       "      <th>1073</th>\n",
       "      <td>spam</td>\n",
       "      <td>Dear U've been invited to XCHAT. This is our f...</td>\n",
       "    </tr>\n",
       "    <tr>\n",
       "      <th>4562</th>\n",
       "      <td>ham</td>\n",
       "      <td>Good afternoon my boytoy. How goes that walkin...</td>\n",
       "    </tr>\n",
       "    <tr>\n",
       "      <th>535</th>\n",
       "      <td>ham</td>\n",
       "      <td>I've not called you in a while. This is hoping...</td>\n",
       "    </tr>\n",
       "  </tbody>\n",
       "</table>\n",
       "</div>"
      ],
      "text/plain": [
       "     Category                                            Message\n",
       "4628     spam  Please call our customer service representativ...\n",
       "3411      ham  Joy's father is John. Then John is the ____ of...\n",
       "5278     spam  URGENT! Your Mobile number has been awarded wi...\n",
       "1777     spam                  Call FREEPHONE 0800 542 0578 now!\n",
       "2675      ham          I am 6 ft. We will be a good combination!\n",
       "5423      ham                             Sorry, I'll call later\n",
       "5115     spam  Get 3 Lions England tone, reply lionm 4 mono o...\n",
       "1073     spam  Dear U've been invited to XCHAT. This is our f...\n",
       "4562      ham  Good afternoon my boytoy. How goes that walkin...\n",
       "535       ham  I've not called you in a while. This is hoping..."
      ]
     },
     "execution_count": 225,
     "metadata": {},
     "output_type": "execute_result"
    }
   ],
   "source": [
    "df_balanced = pd.concat([df_spam, df_ham.sample(n=747, random_state=30)])\n",
    "df_balanced.sample(10)"
   ]
  },
  {
   "cell_type": "code",
   "execution_count": 226,
   "id": "3caa28dc",
   "metadata": {},
   "outputs": [
    {
     "name": "stdout",
     "output_type": "stream",
     "text": [
      "<class 'pandas.core.frame.DataFrame'>\n",
      "Int64Index: 1494 entries, 2 to 4715\n",
      "Data columns (total 2 columns):\n",
      " #   Column    Non-Null Count  Dtype \n",
      "---  ------    --------------  ----- \n",
      " 0   Category  1494 non-null   object\n",
      " 1   Message   1494 non-null   object\n",
      "dtypes: object(2)\n",
      "memory usage: 35.0+ KB\n"
     ]
    }
   ],
   "source": [
    "df_balanced.info()"
   ]
  },
  {
   "cell_type": "code",
   "execution_count": 227,
   "id": "547cb65e",
   "metadata": {},
   "outputs": [],
   "source": [
    "vectorizer2 = CountVectorizer(min_df=2, ngram_range=(1, 2))\n",
    "X2 = vectorizer2.fit_transform(df_balanced.Message)\n",
    "y2 = df_balanced.Category"
   ]
  },
  {
   "cell_type": "code",
   "execution_count": 228,
   "id": "bc96c0e4",
   "metadata": {},
   "outputs": [
    {
     "data": {
      "text/plain": [
       "<1494x5956 sparse matrix of type '<class 'numpy.int64'>'\n",
       "\twith 36950 stored elements in Compressed Sparse Row format>"
      ]
     },
     "execution_count": 228,
     "metadata": {},
     "output_type": "execute_result"
    }
   ],
   "source": [
    "X2"
   ]
  },
  {
   "cell_type": "code",
   "execution_count": 229,
   "id": "d270c79f",
   "metadata": {},
   "outputs": [
    {
     "data": {
      "text/plain": [
       "(1494, 5956)"
      ]
     },
     "execution_count": 229,
     "metadata": {},
     "output_type": "execute_result"
    }
   ],
   "source": [
    "X2.toarray().shape"
   ]
  },
  {
   "cell_type": "code",
   "execution_count": 230,
   "id": "02471989",
   "metadata": {},
   "outputs": [],
   "source": [
    "X2_train, X2_test, y2_train, y2_test = train_test_split(X2, y2, test_size=0.2)"
   ]
  },
  {
   "cell_type": "code",
   "execution_count": 231,
   "id": "0d269957",
   "metadata": {},
   "outputs": [
    {
     "data": {
      "text/plain": [
       "((1195, 5956), (299, 5956))"
      ]
     },
     "execution_count": 231,
     "metadata": {},
     "output_type": "execute_result"
    }
   ],
   "source": [
    "X2_train.shape, X2_test.shape"
   ]
  },
  {
   "cell_type": "code",
   "execution_count": 232,
   "id": "1b618a1d",
   "metadata": {},
   "outputs": [
    {
     "data": {
      "text/html": [
       "<style>#sk-container-id-9 {color: black;background-color: white;}#sk-container-id-9 pre{padding: 0;}#sk-container-id-9 div.sk-toggleable {background-color: white;}#sk-container-id-9 label.sk-toggleable__label {cursor: pointer;display: block;width: 100%;margin-bottom: 0;padding: 0.3em;box-sizing: border-box;text-align: center;}#sk-container-id-9 label.sk-toggleable__label-arrow:before {content: \"▸\";float: left;margin-right: 0.25em;color: #696969;}#sk-container-id-9 label.sk-toggleable__label-arrow:hover:before {color: black;}#sk-container-id-9 div.sk-estimator:hover label.sk-toggleable__label-arrow:before {color: black;}#sk-container-id-9 div.sk-toggleable__content {max-height: 0;max-width: 0;overflow: hidden;text-align: left;background-color: #f0f8ff;}#sk-container-id-9 div.sk-toggleable__content pre {margin: 0.2em;color: black;border-radius: 0.25em;background-color: #f0f8ff;}#sk-container-id-9 input.sk-toggleable__control:checked~div.sk-toggleable__content {max-height: 200px;max-width: 100%;overflow: auto;}#sk-container-id-9 input.sk-toggleable__control:checked~label.sk-toggleable__label-arrow:before {content: \"▾\";}#sk-container-id-9 div.sk-estimator input.sk-toggleable__control:checked~label.sk-toggleable__label {background-color: #d4ebff;}#sk-container-id-9 div.sk-label input.sk-toggleable__control:checked~label.sk-toggleable__label {background-color: #d4ebff;}#sk-container-id-9 input.sk-hidden--visually {border: 0;clip: rect(1px 1px 1px 1px);clip: rect(1px, 1px, 1px, 1px);height: 1px;margin: -1px;overflow: hidden;padding: 0;position: absolute;width: 1px;}#sk-container-id-9 div.sk-estimator {font-family: monospace;background-color: #f0f8ff;border: 1px dotted black;border-radius: 0.25em;box-sizing: border-box;margin-bottom: 0.5em;}#sk-container-id-9 div.sk-estimator:hover {background-color: #d4ebff;}#sk-container-id-9 div.sk-parallel-item::after {content: \"\";width: 100%;border-bottom: 1px solid gray;flex-grow: 1;}#sk-container-id-9 div.sk-label:hover label.sk-toggleable__label {background-color: #d4ebff;}#sk-container-id-9 div.sk-serial::before {content: \"\";position: absolute;border-left: 1px solid gray;box-sizing: border-box;top: 0;bottom: 0;left: 50%;z-index: 0;}#sk-container-id-9 div.sk-serial {display: flex;flex-direction: column;align-items: center;background-color: white;padding-right: 0.2em;padding-left: 0.2em;position: relative;}#sk-container-id-9 div.sk-item {position: relative;z-index: 1;}#sk-container-id-9 div.sk-parallel {display: flex;align-items: stretch;justify-content: center;background-color: white;position: relative;}#sk-container-id-9 div.sk-item::before, #sk-container-id-9 div.sk-parallel-item::before {content: \"\";position: absolute;border-left: 1px solid gray;box-sizing: border-box;top: 0;bottom: 0;left: 50%;z-index: -1;}#sk-container-id-9 div.sk-parallel-item {display: flex;flex-direction: column;z-index: 1;position: relative;background-color: white;}#sk-container-id-9 div.sk-parallel-item:first-child::after {align-self: flex-end;width: 50%;}#sk-container-id-9 div.sk-parallel-item:last-child::after {align-self: flex-start;width: 50%;}#sk-container-id-9 div.sk-parallel-item:only-child::after {width: 0;}#sk-container-id-9 div.sk-dashed-wrapped {border: 1px dashed gray;margin: 0 0.4em 0.5em 0.4em;box-sizing: border-box;padding-bottom: 0.4em;background-color: white;}#sk-container-id-9 div.sk-label label {font-family: monospace;font-weight: bold;display: inline-block;line-height: 1.2em;}#sk-container-id-9 div.sk-label-container {text-align: center;}#sk-container-id-9 div.sk-container {/* jupyter's `normalize.less` sets `[hidden] { display: none; }` but bootstrap.min.css set `[hidden] { display: none !important; }` so we also need the `!important` here to be able to override the default hidden behavior on the sphinx rendered scikit-learn.org. See: https://github.com/scikit-learn/scikit-learn/issues/21755 */display: inline-block !important;position: relative;}#sk-container-id-9 div.sk-text-repr-fallback {display: none;}</style><div id=\"sk-container-id-9\" class=\"sk-top-container\"><div class=\"sk-text-repr-fallback\"><pre>LogisticRegression()</pre><b>In a Jupyter environment, please rerun this cell to show the HTML representation or trust the notebook. <br />On GitHub, the HTML representation is unable to render, please try loading this page with nbviewer.org.</b></div><div class=\"sk-container\" hidden><div class=\"sk-item\"><div class=\"sk-estimator sk-toggleable\"><input class=\"sk-toggleable__control sk-hidden--visually\" id=\"sk-estimator-id-9\" type=\"checkbox\" checked><label for=\"sk-estimator-id-9\" class=\"sk-toggleable__label sk-toggleable__label-arrow\">LogisticRegression</label><div class=\"sk-toggleable__content\"><pre>LogisticRegression()</pre></div></div></div></div></div>"
      ],
      "text/plain": [
       "LogisticRegression()"
      ]
     },
     "execution_count": 232,
     "metadata": {},
     "output_type": "execute_result"
    }
   ],
   "source": [
    "classifier2 = LogisticRegression()\n",
    "classifier2.fit(X2_train, y2_train)"
   ]
  },
  {
   "cell_type": "code",
   "execution_count": 233,
   "id": "ce93db76",
   "metadata": {},
   "outputs": [],
   "source": [
    "y2_pred = classifier2.predict(X2_test)"
   ]
  },
  {
   "cell_type": "code",
   "execution_count": 234,
   "id": "7b172262",
   "metadata": {},
   "outputs": [
    {
     "name": "stdout",
     "output_type": "stream",
     "text": [
      "Accuracy: 0.9565217391304348, \n",
      "Precision: 0.9581741474276341, \n",
      "Recall: 0.9565217391304348, \n",
      "F1 Score: 0.9564779205452202\n"
     ]
    }
   ],
   "source": [
    "accuracy2 = accuracy_score(y2_test, y2_pred)\n",
    "precision2 = precision_score(y2_test, y2_pred, average='weighted')\n",
    "recall2 = recall_score(y2_test, y2_pred, average='weighted')\n",
    "f1_2 = f1_score(y2_test, y2_pred, average='weighted')\n",
    "\n",
    "print(f'Accuracy: {accuracy2}, \\nPrecision: {precision2}, \\nRecall: {recall2}, \\nF1 Score: {f1_2}')"
   ]
  },
  {
   "cell_type": "code",
   "execution_count": 235,
   "id": "8fe9f643",
   "metadata": {},
   "outputs": [
    {
     "data": {
      "text/plain": [
       "array(['spam'], dtype=object)"
      ]
     },
     "execution_count": 235,
     "metadata": {},
     "output_type": "execute_result"
    }
   ],
   "source": [
    "new_text = ['mobile with a FREE sexy pic of Jorda']\n",
    "new_text_vector = vectorizer2.transform(new_text)\n",
    "classifier2.predict(new_text_vector)"
   ]
  },
  {
   "cell_type": "code",
   "execution_count": null,
   "id": "207af3a2",
   "metadata": {},
   "outputs": [],
   "source": []
  }
 ],
 "metadata": {
  "kernelspec": {
   "display_name": "Python 3 (ipykernel)",
   "language": "python",
   "name": "python3"
  },
  "language_info": {
   "codemirror_mode": {
    "name": "ipython",
    "version": 3
   },
   "file_extension": ".py",
   "mimetype": "text/x-python",
   "name": "python",
   "nbconvert_exporter": "python",
   "pygments_lexer": "ipython3",
   "version": "3.10.9"
  }
 },
 "nbformat": 4,
 "nbformat_minor": 5
}
